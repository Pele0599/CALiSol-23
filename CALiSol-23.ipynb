{
 "cells":[
  {
   "cell_type":"code",
   "source":[
    "import pandas as pd\n",
    "import numpy as np\n",
    "import copy"
   ],
   "execution_count":2,
   "outputs":[
    
   ],
   "metadata":{
    "datalore":{
     "node_id":"R0knWpq6gFufZWqGk2j47b",
     "type":"CODE",
     "hide_input_from_viewers":true,
     "hide_output_from_viewers":true
    }
   }
  },
  {
   "cell_type":"code",
   "source":[
    "dataset = pd.read_csv(\"dataset SR.csv\")"
   ],
   "execution_count":3,
   "outputs":[
    
   ],
   "metadata":{
    "datalore":{
     "node_id":"E7PTE0P3XQa8cpdJFda4nJ",
     "type":"CODE",
     "hide_input_from_viewers":true,
     "hide_output_from_viewers":true
    }
   }
  },
  {
   "cell_type":"code",
   "source":[
    "print(dataset.columns)"
   ],
   "execution_count":4,
   "outputs":[
    {
     "name":"stdout",
     "text":[
      "Index(['doi', 'k', 'T', 'c', 'salt', 'c units', 'solvent ratio type', 'EC',\n",
      "       'PC', 'DMC', 'EMC', 'DEC', 'DME', 'DMSO', 'AN', 'MOEMC', 'TFP', 'EA',\n",
      "       'MA', 'FEC', 'DOL', '2-MeTHF', 'DMM', 'Freon 11', 'Methylene chloride',\n",
      "       'THF', 'Toluene', 'Sulfolane', '2-Glyme', '3-Glyme', '4-Glyme',\n",
      "       '3-Me-2-Oxazolidinone', '3-MeSulfolane', 'Ethyldiglyme', 'DMF',\n",
      "       'Ethylbenzene', 'Ethylmonoglyme', 'Benzene', 'g-Butyrolactone',\n",
      "       'Cumene', 'Propylsulfone', 'Pseudocumeme', 'TEOS', 'm-Xylene',\n",
      "       'o-Xylene'],\n",
      "      dtype='object')\n"
     ],
     "output_type":"stream"
    }
   ],
   "metadata":{
    "datalore":{
     "node_id":"JzN6Qij4rLwFvUgd7XP6Jd",
     "type":"CODE",
     "hide_input_from_viewers":true,
     "hide_output_from_viewers":true
    }
   }
  },
  {
   "cell_type":"markdown",
   "source":[
    "# Molar weights, salts etc"
   ],
   "attachments":{
    
   },
   "metadata":{
    "datalore":{
     "node_id":"WTbNc8fbd9mJc93RsPhW4L",
     "type":"MD",
     "hide_input_from_viewers":true,
     "hide_output_from_viewers":true
    }
   }
  },
  {
   "cell_type":"code",
   "source":[
    "molar_weights = {'EC': 88.06,\n",
    "       'PC' : 102.08, 'DMC' : 90.08,'EMC' : 104.10, 'DEC' : 118.132,\n",
    "        'DME' : 90.12, 'DMSO' : 78.13, 'AN': 41.05, 'MOEMC': 134.13, 'TFP': 344.07, 'EA' : 88.10,\n",
    "       'MA': 74.08, 'FEC': 106.05, 'DOL': 74.08, '2-MeTHF' : 86.13, 'DMM': 162.2, 'Freon 11' : 137.36,\n",
    "       'Methylene chloride' : 84.93,\n",
    "       'THF' : 72.10, 'Toluene' : 92.14, 'Sulfolane' : 120.17, '2-Glyme' : 134.17, '3-Glyme' : 178.22,\n",
    "                 '4-Glyme' : 222.28,\n",
    "       '3-Me-2-Oxazolidinone' : 101.10, '3-MeSulfolane' : 134.20, 'Ethyldiglyme': 134.17, 'DMF' : 73.09,\n",
    "       'Ethylbenzene' : 106.17, 'Ethylmonoglyme' : 76.10, 'Benzene' : 78.11, 'g-Butyrolactone' : 86.09,\n",
    "       'Cumene' : 120.19, 'Propylsulfone' : 150.24, 'Pseudocumeme' : 120.19, 'TEOS' : 208.33, 'm-Xylene' : 106.17,\n",
    "       'o-Xylene' : 106.16} # Molar weights of different organic solvents  [g \/ mol]\n",
    "molar_weights_salts = {'LiPF6' : 151.91, 'LiBF4': 93.75,\n",
    "                      'LiFSI': 187.7, 'LiTDI' : 192.1, 'LiPDI' : 242.1, 'LiTFSI' : 287.07, 'LiClO4' : 160.44, 'LiAsF6' : 195.9,\n",
    " 'LiBOB' : 193.79, 'LiCF3SO3' : 156.01, 'LiBPFPB' : 193.8, 'LiBMB': 221.85, 'LiN(CF3SO2)2' : 287.07} # Molar weights of salts in [g \/ mol]. Note that LiClO4 exists in hydrous and anyhydrous form\n",
    "# Note that the weight of LiBMB was calculated theoretically\n",
    "names_salts = {'LiPF6' : \"Lithium hexafluorophosphate\", 'LiBF4': \"Lithium tetrafluoroborate\",\n",
    "                      'LiFSI': \"Lithium Bis(fluorosulfonyl)imide\", 'LiTDI' : \"lithium 2-trifluoromethyl-4,5-dicyanoimidazole\", \n",
    "               'LiPDI' : \"lithium 4,5-dicyano-2-(pentafluoroethyl)imidazolide\", 'LiTFSI': \"Lithium bis(trifluoromethanesulfonyl)imide\", \n",
    "               'LiClO4' : \"Lithium perchlorate\", 'LiAsF6' : \"Lithium hexafluoroarsenate(V)\",\n",
    " 'LiBOB' : \"Lithium bis(oxalato)borate\", 'LiCF3SO3' : \"Lithium triflate\", 'LiBPFPB' : \"Lithium bis(oxalate)borate\",\n",
    "               'LiBMB' : \"lithium bis(malonato)borate\", 'LiN(CF3SO2)2' : \"lithium bis(trifluoromethanesulfonimide)\"}\n",
    "\n",
    "names_solvents = {'EC' : \"Ethylene carbonate\",\n",
    "       'PC' : \"Propylene carbonate\", 'DMC' : \"Dimethyl carbonate\", 'EMC' : \"Ethyl Methyl Carbonate\", \n",
    "         'DEC' : \"​Diethyl carbonate\", 'DME' : \"Dimethoxyethane\", 'DMSO' : \"Dimethyl sulfoxide\", 'AN' : \"Acetonitrile\", 'MOEMC' : \"2-Methoxyethyl (methyl) carbonate\",\n",
    "         'TFP' : \"Tris(2,2,2-trifluoroethyl) phosphate\", 'EA' : \"Ethyl acetate\",\n",
    "       'MA' : \"Methyl acetate\", 'FEC' : \"Fluoroethylene carbonate\", 'DOL': \"Dioxolane\"\n",
    "         , '2-MeTHF': \"2-Methyltetrahydrofuran\", 'DMM' : \"Dipropylene glycol dimethyl ether\",\n",
    "         'Freon 11' : \"Trichlorofluoromethane\", 'Methylene chloride' : 'Methylene chloride',\n",
    "       'THF' : \"Tetrahydrofuran\", 'Toluene' : \"Toluene\", 'Sulfolane' : \"Sulfolane\",\n",
    "         '2-Glyme': \"Diglyme\", '3-Glyme': \"Triglyme\", '4-Glyme': \"tetraglyme\",\n",
    "       '3-Me-2-Oxazolidinone' : \"3-Me-2-Oxazolidinone\", '3-MeSulfolane' : \"3-Methylsulfolane\",\n",
    "         'Ethyldiglyme' : \"2-(2-Ethoxyethoxy)ethanol\", 'DMF' : \"Dimethylformamide\",\n",
    "       'Ethylbenzene': 'Ethylbenzene', 'Ethylmonoglyme': \"ethylene glycol monomethyl\", 'Benzene' : \"Benzene\", 'g-Butyrolactone' : \"gamma-Butyrolactone\",\n",
    "       'Cumene' : \"Cumene\", 'Propylsulfone' : 'Propylsulfone', 'Pseudocumeme' : \"1,2,4-Trimethylbenzene\", 'TEOS' : \"Tetraethyl orthosilicate\", 'm-Xylene' : 'm-Xylene',\n",
    "       'o-Xylene' : 'o-Xylene'\n",
    "}\n",
    "\n",
    "densities = {'EC': 1.3210,\n",
    "       'PC' : 1.205, 'DMC' : 1.07, 'EMC' : 0.902, 'DEC' : 0.975,\n",
    "        'DME' : 0.86, 'DMSO' : 1.1004, 'AN': 0.786, 'MOEMC': 1.5, 'TFP': 1.487, 'EA' : 0.902,\n",
    "       'MA': 0.932, 'FEC': 1.454, 'DOL': 1.06, '2-MeTHF' : 0.854, 'DMM': 0.902, 'Freon 11': 1.49, 'Methylene chloride': 1.33,\n",
    "       'THF': 0.888, 'Toluene' : 0.867, 'Sulfolane' : 1.26, '2-Glyme': 0.937, '3-Glyme': 0.986, '4-Glyme': 1.009,\n",
    "       '3-Me-2-Oxazolidinone': 1.17, '3-MeSulfolane': 1.20, 'Ethyldiglyme' : 0.937, 'DMF': 0.944,\n",
    "       'Ethylbenzene': 0.866, 'Ethylmonoglyme': 0.965, 'Benzene': 0.876, 'g-Butyrolactone' : 1.13,\n",
    "       'Cumene': 0.862, 'Propylsulfone' : 1.109, 'Pseudocumeme': 0.876, 'TEOS': 0.940, 'm-Xylene' : 0.860,\n",
    "       'o-Xylene': 0.87596} # g \/ cm3 at 25 C\n"
   ],
   "execution_count":331,
   "outputs":[
    
   ],
   "metadata":{
    "datalore":{
     "node_id":"Aho0a4NuhH2SNbQDrXwFZs",
     "type":"CODE",
     "hide_input_from_viewers":true,
     "hide_output_from_viewers":true
    }
   }
  },
  {
   "cell_type":"markdown",
   "source":[
    "# Converting weights to molar ratios\n",
    "\n",
    "In this case, for each of the solvents, we want it such that the value of each row corresponds to how many moles of each are in 1 kg of total solvent "
   ],
   "attachments":{
    
   },
   "metadata":{
    "datalore":{
     "node_id":"tMntsqreV6aMed6DK2GPxE",
     "type":"MD",
     "hide_input_from_viewers":true,
     "hide_output_from_viewers":true
    }
   }
  },
  {
   "cell_type":"code",
   "source":[
    "def transform_mole_to_liter(df, molar_weights, densities):\n",
    "    '''\n",
    "        Function that transforms a df with molar weights in one kg, into how much\n",
    "        volume is occupied in the mixture. This assumes that the volume of mixed\n",
    "        liquids depends on the average of their density \n",
    "\n",
    "        Returns the volume of each compositon in [l]\n",
    "    '''\n",
    "    copied_df = copy.copy(df)\n",
    "\n",
    "    # Transform moles into g of \n",
    "    for column in copied_df.columns:\n",
    "        if column in molar_weights:\n",
    "            copied_df[column] *= molar_weights[column]\n",
    "\n",
    "    # Now each column is divided by the density\n",
    "    for column in copied_df.columns:\n",
    "        if column in densities:\n",
    "            copied_df[column] *= 1 \/ (densities[column] * 1000)\n",
    "    total_volumes = copied_df.iloc[:,7:].sum(axis=1)\n",
    "    return total_volumes"
   ],
   "execution_count":332,
   "outputs":[
    
   ],
   "metadata":{
    "datalore":{
     "node_id":"OaUU65y7GtxPPyBcREtvp2",
     "type":"CODE",
     "hide_input_from_viewers":true,
     "hide_output_from_viewers":true
    }
   }
  },
  {
   "cell_type":"code",
   "source":[
    "copied_dataset = copy.copy(dataset)\n",
    "\n",
    "# Extracting all columns, where the solvent ratios are given by their weights, molarity and volumes\n",
    "solvent_ratio_w = copied_dataset[copied_dataset['solvent ratio type'] == 'w']\n",
    "solvent_ratio_m_o = copied_dataset[copied_dataset['solvent ratio type'] == 'mol']\n",
    "solvent_ratio_m = copied_dataset[copied_dataset['solvent ratio type'] == 'mol']\n",
    "solvent_ratio_v = copied_dataset[copied_dataset['solvent ratio type'] == 'v']\n",
    "\n",
    "# Transforming solvent weight ratios to how many moles in one kg of solvent\n",
    "for column in solvent_ratio_w.columns:\n",
    "    if column in molar_weights:\n",
    "        solvent_ratio_w[column] *= 1000 \/ molar_weights[column] # Turn it into mol in one kg of solvent\n",
    "\n",
    "# Transforming solven molar ratios to how many moles in one kg of solvent\n",
    "\n",
    "for column in solvent_ratio_m.columns:\n",
    "    if column in molar_weights:\n",
    "        solvent_ratio_m[column] *= molar_weights[column]\n",
    "\n",
    "row_sums = 1000 \/ solvent_ratio_m.iloc[:, 7:].sum(axis=1).values # Sum of molar fraction times the molar weight\n",
    "\n",
    "# Divide each row by 1000 divided by the sum of that row\n",
    "normalized_df_m = solvent_ratio_m_o.iloc[:, 7:].mul(row_sums, axis=0)\n",
    "solvent_ratio_m_o.iloc[:, 7:] = normalized_df_m # Now in each row for the solvents, we have the number of moles per kg of solvent\n",
    "\n",
    "# The question now is, how much volume does a solvent like this occupy\n",
    "\n",
    "volumes = transform_mole_to_liter(solvent_ratio_m_o, \n",
    "                                  molar_weights,\n",
    "                                  densities)\n",
    "\n",
    "\n",
    "\n"
   ],
   "execution_count":333,
   "outputs":[
    {
     "name":"stderr",
     "text":[
      "<ipython-input-333-3c9ea327e744>:12: SettingWithCopyWarning: \n",
      "A value is trying to be set on a copy of a slice from a DataFrame.\n",
      "Try using .loc[row_indexer,col_indexer] = value instead\n",
      "\n",
      "See the caveats in the documentation: https:\/\/pandas.pydata.org\/pandas-docs\/stable\/user_guide\/indexing.html#returning-a-view-versus-a-copy\n",
      "  solvent_ratio_w[column] *= 1000 \/ molar_weights[column] # Turn it into mol in one kg of solvent\n",
      "<ipython-input-333-3c9ea327e744>:18: SettingWithCopyWarning: \n",
      "A value is trying to be set on a copy of a slice from a DataFrame.\n",
      "Try using .loc[row_indexer,col_indexer] = value instead\n",
      "\n",
      "See the caveats in the documentation: https:\/\/pandas.pydata.org\/pandas-docs\/stable\/user_guide\/indexing.html#returning-a-view-versus-a-copy\n",
      "  solvent_ratio_m[column] *= molar_weights[column]\n",
      "<ipython-input-333-3c9ea327e744>:24: SettingWithCopyWarning: \n",
      "A value is trying to be set on a copy of a slice from a DataFrame.\n",
      "Try using .loc[row_indexer,col_indexer] = value instead\n",
      "\n",
      "See the caveats in the documentation: https:\/\/pandas.pydata.org\/pandas-docs\/stable\/user_guide\/indexing.html#returning-a-view-versus-a-copy\n",
      "  solvent_ratio_m_o.iloc[:, 7:] = normalized_df_m # Now in each row for the solvents, we have the number of moles per kg of solvent\n",
      "<ipython-input-333-3c9ea327e744>:24: DeprecationWarning: In a future version, `df.iloc[:, i] = newvals` will attempt to set the values inplace instead of always setting a new array. To retain the old behavior, use either `df[df.columns[i]] = newvals` or, if columns are non-unique, `df.isetitem(i, newvals)`\n",
      "  solvent_ratio_m_o.iloc[:, 7:] = normalized_df_m # Now in each row for the solvents, we have the number of moles per kg of solvent\n"
     ],
     "output_type":"stream"
    }
   ],
   "metadata":{
    "datalore":{
     "node_id":"vtQqFfn263AK2dFhoIU01s",
     "type":"CODE",
     "hide_input_from_viewers":true,
     "hide_output_from_viewers":true
    }
   }
  },
  {
   "cell_type":"code",
   "source":[
    "import matplotlib.pyplot as plt \n",
    "plt.hist(volumes.values, bins=10)"
   ],
   "execution_count":337,
   "outputs":[
    {
     "data":{
      "text\/plain":[
       "(array([ 29.,   0., 620., 140.,   0.,   0.,   0.,   0., 367.,  25.]),\n",
       " array([0.66666667, 0.72722646, 0.78778626, 0.84834606, 0.90890585,\n",
       "        0.96946565, 1.03002545, 1.09058524, 1.15114504, 1.21170483,\n",
       "        1.27226463]),\n",
       " <BarContainer object of 10 artists>)"
      ]
     },
     "metadata":{
      
     },
     "output_type":"display_data"
    },
    {
     "data":{
      "image\/png":"[encoded data removed]"
     },
     "metadata":{
      "image\/png":{
       
      }
     },
     "output_type":"display_data"
    }
   ],
   "metadata":{
    "datalore":{
     "node_id":"HEc21FnOGmAUzwbZkuFvpB",
     "type":"CODE",
     "hide_input_from_viewers":true,
     "hide_output_from_viewers":true
    }
   }
  },
  {
   "cell_type":"code",
   "source":[
    "solvent_ratio_m_o"
   ],
   "execution_count":330,
   "outputs":[
    {
     "data":{
      "text\/html":[
       "<div>\n",
       "<style scoped>\n",
       "    .dataframe tbody tr th:only-of-type {\n",
       "        vertical-align: middle;\n",
       "    }\n",
       "\n",
       "    .dataframe tbody tr th {\n",
       "        vertical-align: top;\n",
       "    }\n",
       "\n",
       "    .dataframe thead th {\n",
       "        text-align: right;\n",
       "    }\n",
       "<\/style>\n",
       "<table border=\"1\" class=\"dataframe\">\n",
       "  <thead>\n",
       "    <tr style=\"text-align: right;\">\n",
       "      <th><\/th>\n",
       "      <th>doi<\/th>\n",
       "      <th>k<\/th>\n",
       "      <th>T<\/th>\n",
       "      <th>c<\/th>\n",
       "      <th>salt<\/th>\n",
       "      <th>c units<\/th>\n",
       "      <th>solvent ratio type<\/th>\n",
       "      <th>EC<\/th>\n",
       "      <th>PC<\/th>\n",
       "      <th>DMC<\/th>\n",
       "      <th>...<\/th>\n",
       "      <th>Ethylbenzene<\/th>\n",
       "      <th>Ethylmonoglyme<\/th>\n",
       "      <th>Benzene<\/th>\n",
       "      <th>g-Butyrolactone<\/th>\n",
       "      <th>Cumene<\/th>\n",
       "      <th>Propylsulfone<\/th>\n",
       "      <th>Pseudocumeme<\/th>\n",
       "      <th>TEOS<\/th>\n",
       "      <th>m-Xylene<\/th>\n",
       "      <th>o-Xylene<\/th>\n",
       "    <\/tr>\n",
       "  <\/thead>\n",
       "  <tbody>\n",
       "    <tr>\n",
       "      <th>130<\/th>\n",
       "      <td>10.1016\/j.jpowsour.2011.07.071<\/td>\n",
       "      <td>5.037117<\/td>\n",
       "      <td>260.912465<\/td>\n",
       "      <td>1.0<\/td>\n",
       "      <td>LiPF6<\/td>\n",
       "      <td>mol\/l<\/td>\n",
       "      <td>mol<\/td>\n",
       "      <td>5.613562<\/td>\n",
       "      <td>0.0<\/td>\n",
       "      <td>5.613562<\/td>\n",
       "      <td>...<\/td>\n",
       "      <td>0.0<\/td>\n",
       "      <td>0.0<\/td>\n",
       "      <td>0.0<\/td>\n",
       "      <td>0.0<\/td>\n",
       "      <td>0.0<\/td>\n",
       "      <td>0.0<\/td>\n",
       "      <td>0.0<\/td>\n",
       "      <td>0.0<\/td>\n",
       "      <td>0.0<\/td>\n",
       "      <td>0.0<\/td>\n",
       "    <\/tr>\n",
       "    <tr>\n",
       "      <th>131<\/th>\n",
       "      <td>10.1016\/j.jpowsour.2011.07.071<\/td>\n",
       "      <td>5.194092<\/td>\n",
       "      <td>261.679555<\/td>\n",
       "      <td>1.0<\/td>\n",
       "      <td>LiPF6<\/td>\n",
       "      <td>mol\/l<\/td>\n",
       "      <td>mol<\/td>\n",
       "      <td>5.613562<\/td>\n",
       "      <td>0.0<\/td>\n",
       "      <td>5.613562<\/td>\n",
       "      <td>...<\/td>\n",
       "      <td>0.0<\/td>\n",
       "      <td>0.0<\/td>\n",
       "      <td>0.0<\/td>\n",
       "      <td>0.0<\/td>\n",
       "      <td>0.0<\/td>\n",
       "      <td>0.0<\/td>\n",
       "      <td>0.0<\/td>\n",
       "      <td>0.0<\/td>\n",
       "      <td>0.0<\/td>\n",
       "      <td>0.0<\/td>\n",
       "    <\/tr>\n",
       "    <tr>\n",
       "      <th>132<\/th>\n",
       "      <td>10.1016\/j.jpowsour.2011.07.071<\/td>\n",
       "      <td>5.247448<\/td>\n",
       "      <td>262.137334<\/td>\n",
       "      <td>1.0<\/td>\n",
       "      <td>LiPF6<\/td>\n",
       "      <td>mol\/l<\/td>\n",
       "      <td>mol<\/td>\n",
       "      <td>5.613562<\/td>\n",
       "      <td>0.0<\/td>\n",
       "      <td>5.613562<\/td>\n",
       "      <td>...<\/td>\n",
       "      <td>0.0<\/td>\n",
       "      <td>0.0<\/td>\n",
       "      <td>0.0<\/td>\n",
       "      <td>0.0<\/td>\n",
       "      <td>0.0<\/td>\n",
       "      <td>0.0<\/td>\n",
       "      <td>0.0<\/td>\n",
       "      <td>0.0<\/td>\n",
       "      <td>0.0<\/td>\n",
       "      <td>0.0<\/td>\n",
       "    <\/tr>\n",
       "    <tr>\n",
       "      <th>133<\/th>\n",
       "      <td>10.1016\/j.jpowsour.2011.07.071<\/td>\n",
       "      <td>5.353387<\/td>\n",
       "      <td>262.901330<\/td>\n",
       "      <td>1.0<\/td>\n",
       "      <td>LiPF6<\/td>\n",
       "      <td>mol\/l<\/td>\n",
       "      <td>mol<\/td>\n",
       "      <td>5.613562<\/td>\n",
       "      <td>0.0<\/td>\n",
       "      <td>5.613562<\/td>\n",
       "      <td>...<\/td>\n",
       "      <td>0.0<\/td>\n",
       "      <td>0.0<\/td>\n",
       "      <td>0.0<\/td>\n",
       "      <td>0.0<\/td>\n",
       "      <td>0.0<\/td>\n",
       "      <td>0.0<\/td>\n",
       "      <td>0.0<\/td>\n",
       "      <td>0.0<\/td>\n",
       "      <td>0.0<\/td>\n",
       "      <td>0.0<\/td>\n",
       "    <\/tr>\n",
       "    <tr>\n",
       "      <th>134<\/th>\n",
       "      <td>10.1016\/j.jpowsour.2011.07.071<\/td>\n",
       "      <td>5.457006<\/td>\n",
       "      <td>263.210640<\/td>\n",
       "      <td>1.0<\/td>\n",
       "      <td>LiPF6<\/td>\n",
       "      <td>mol\/l<\/td>\n",
       "      <td>mol<\/td>\n",
       "      <td>5.613562<\/td>\n",
       "      <td>0.0<\/td>\n",
       "      <td>5.613562<\/td>\n",
       "      <td>...<\/td>\n",
       "      <td>0.0<\/td>\n",
       "      <td>0.0<\/td>\n",
       "      <td>0.0<\/td>\n",
       "      <td>0.0<\/td>\n",
       "      <td>0.0<\/td>\n",
       "      <td>0.0<\/td>\n",
       "      <td>0.0<\/td>\n",
       "      <td>0.0<\/td>\n",
       "      <td>0.0<\/td>\n",
       "      <td>0.0<\/td>\n",
       "    <\/tr>\n",
       "    <tr>\n",
       "      <th>...<\/th>\n",
       "      <td>...<\/td>\n",
       "      <td>...<\/td>\n",
       "      <td>...<\/td>\n",
       "      <td>...<\/td>\n",
       "      <td>...<\/td>\n",
       "      <td>...<\/td>\n",
       "      <td>...<\/td>\n",
       "      <td>...<\/td>\n",
       "      <td>...<\/td>\n",
       "      <td>...<\/td>\n",
       "      <td>...<\/td>\n",
       "      <td>...<\/td>\n",
       "      <td>...<\/td>\n",
       "      <td>...<\/td>\n",
       "      <td>...<\/td>\n",
       "      <td>...<\/td>\n",
       "      <td>...<\/td>\n",
       "      <td>...<\/td>\n",
       "      <td>...<\/td>\n",
       "      <td>...<\/td>\n",
       "      <td>...<\/td>\n",
       "    <\/tr>\n",
       "    <tr>\n",
       "      <th>5649<\/th>\n",
       "      <td>10.1149\/1.1527939<\/td>\n",
       "      <td>2.199510<\/td>\n",
       "      <td>228.434917<\/td>\n",
       "      <td>1.2<\/td>\n",
       "      <td>LiBOB<\/td>\n",
       "      <td>mol\/l<\/td>\n",
       "      <td>mol<\/td>\n",
       "      <td>0.000000<\/td>\n",
       "      <td>0.0<\/td>\n",
       "      <td>0.000000<\/td>\n",
       "      <td>...<\/td>\n",
       "      <td>0.0<\/td>\n",
       "      <td>0.0<\/td>\n",
       "      <td>0.0<\/td>\n",
       "      <td>0.0<\/td>\n",
       "      <td>0.0<\/td>\n",
       "      <td>0.0<\/td>\n",
       "      <td>0.0<\/td>\n",
       "      <td>0.0<\/td>\n",
       "      <td>0.0<\/td>\n",
       "      <td>0.0<\/td>\n",
       "    <\/tr>\n",
       "    <tr>\n",
       "      <th>5650<\/th>\n",
       "      <td>10.1149\/1.1527939<\/td>\n",
       "      <td>1.728628<\/td>\n",
       "      <td>223.393383<\/td>\n",
       "      <td>1.2<\/td>\n",
       "      <td>LiBOB<\/td>\n",
       "      <td>mol\/l<\/td>\n",
       "      <td>mol<\/td>\n",
       "      <td>0.000000<\/td>\n",
       "      <td>0.0<\/td>\n",
       "      <td>0.000000<\/td>\n",
       "      <td>...<\/td>\n",
       "      <td>0.0<\/td>\n",
       "      <td>0.0<\/td>\n",
       "      <td>0.0<\/td>\n",
       "      <td>0.0<\/td>\n",
       "      <td>0.0<\/td>\n",
       "      <td>0.0<\/td>\n",
       "      <td>0.0<\/td>\n",
       "      <td>0.0<\/td>\n",
       "      <td>0.0<\/td>\n",
       "      <td>0.0<\/td>\n",
       "    <\/tr>\n",
       "    <tr>\n",
       "      <th>5651<\/th>\n",
       "      <td>10.1149\/1.1527939<\/td>\n",
       "      <td>1.249148<\/td>\n",
       "      <td>219.195667<\/td>\n",
       "      <td>1.2<\/td>\n",
       "      <td>LiBOB<\/td>\n",
       "      <td>mol\/l<\/td>\n",
       "      <td>mol<\/td>\n",
       "      <td>0.000000<\/td>\n",
       "      <td>0.0<\/td>\n",
       "      <td>0.000000<\/td>\n",
       "      <td>...<\/td>\n",
       "      <td>0.0<\/td>\n",
       "      <td>0.0<\/td>\n",
       "      <td>0.0<\/td>\n",
       "      <td>0.0<\/td>\n",
       "      <td>0.0<\/td>\n",
       "      <td>0.0<\/td>\n",
       "      <td>0.0<\/td>\n",
       "      <td>0.0<\/td>\n",
       "      <td>0.0<\/td>\n",
       "      <td>0.0<\/td>\n",
       "    <\/tr>\n",
       "    <tr>\n",
       "      <th>5652<\/th>\n",
       "      <td>10.1149\/1.1527939<\/td>\n",
       "      <td>0.891675<\/td>\n",
       "      <td>213.679275<\/td>\n",
       "      <td>1.2<\/td>\n",
       "      <td>LiBOB<\/td>\n",
       "      <td>mol\/l<\/td>\n",
       "      <td>mol<\/td>\n",
       "      <td>0.000000<\/td>\n",
       "      <td>0.0<\/td>\n",
       "      <td>0.000000<\/td>\n",
       "      <td>...<\/td>\n",
       "      <td>0.0<\/td>\n",
       "      <td>0.0<\/td>\n",
       "      <td>0.0<\/td>\n",
       "      <td>0.0<\/td>\n",
       "      <td>0.0<\/td>\n",
       "      <td>0.0<\/td>\n",
       "      <td>0.0<\/td>\n",
       "      <td>0.0<\/td>\n",
       "      <td>0.0<\/td>\n",
       "      <td>0.0<\/td>\n",
       "    <\/tr>\n",
       "    <tr>\n",
       "      <th>5653<\/th>\n",
       "      <td>10.1149\/1.1527939<\/td>\n",
       "      <td>0.561115<\/td>\n",
       "      <td>208.588497<\/td>\n",
       "      <td>1.2<\/td>\n",
       "      <td>LiBOB<\/td>\n",
       "      <td>mol\/l<\/td>\n",
       "      <td>mol<\/td>\n",
       "      <td>0.000000<\/td>\n",
       "      <td>0.0<\/td>\n",
       "      <td>0.000000<\/td>\n",
       "      <td>...<\/td>\n",
       "      <td>0.0<\/td>\n",
       "      <td>0.0<\/td>\n",
       "      <td>0.0<\/td>\n",
       "      <td>0.0<\/td>\n",
       "      <td>0.0<\/td>\n",
       "      <td>0.0<\/td>\n",
       "      <td>0.0<\/td>\n",
       "      <td>0.0<\/td>\n",
       "      <td>0.0<\/td>\n",
       "      <td>0.0<\/td>\n",
       "    <\/tr>\n",
       "  <\/tbody>\n",
       "<\/table>\n",
       "<p>1181 rows × 45 columns<\/p>\n",
       "<\/div>"
      ]
     },
     "metadata":{
      
     },
     "output_type":"display_data"
    }
   ],
   "metadata":{
    "datalore":{
     "node_id":"M8qR7zbV5AlD7mykpIdOid",
     "type":"CODE",
     "hide_input_from_viewers":true,
     "hide_output_from_viewers":true
    }
   }
  },
  {
   "cell_type":"code",
   "source":[
    "(solvent_ratio_w['c units'] == \"mol\/kg\").sum() # Most measurements of the salt are in mol \/ kg"
   ],
   "execution_count":130,
   "outputs":[
    {
     "data":{
      "text\/plain":[
       "10589"
      ]
     },
     "metadata":{
      
     },
     "output_type":"display_data"
    }
   ],
   "metadata":{
    "datalore":{
     "node_id":"m2BiRPsTmMi4fMJZMDE4lS",
     "type":"CODE",
     "hide_input_from_viewers":true,
     "hide_output_from_viewers":true
    }
   }
  },
  {
   "cell_type":"code",
   "source":[
    "solvent_ratio_w"
   ],
   "execution_count":139,
   "outputs":[
    {
     "data":{
      "text\/html":[
       "<div>\n",
       "<style scoped>\n",
       "    .dataframe tbody tr th:only-of-type {\n",
       "        vertical-align: middle;\n",
       "    }\n",
       "\n",
       "    .dataframe tbody tr th {\n",
       "        vertical-align: top;\n",
       "    }\n",
       "\n",
       "    .dataframe thead th {\n",
       "        text-align: right;\n",
       "    }\n",
       "<\/style>\n",
       "<table border=\"1\" class=\"dataframe\">\n",
       "  <thead>\n",
       "    <tr style=\"text-align: right;\">\n",
       "      <th><\/th>\n",
       "      <th>doi<\/th>\n",
       "      <th>k<\/th>\n",
       "      <th>T<\/th>\n",
       "      <th>c<\/th>\n",
       "      <th>salt<\/th>\n",
       "      <th>c units<\/th>\n",
       "      <th>solvent ratio type<\/th>\n",
       "      <th>EC<\/th>\n",
       "      <th>PC<\/th>\n",
       "      <th>DMC<\/th>\n",
       "      <th>...<\/th>\n",
       "      <th>Ethylbenzene<\/th>\n",
       "      <th>Ethylmonoglyme<\/th>\n",
       "      <th>Benzene<\/th>\n",
       "      <th>g-Butyrolactone<\/th>\n",
       "      <th>Cumene<\/th>\n",
       "      <th>Propylsulfone<\/th>\n",
       "      <th>Pseudocumeme<\/th>\n",
       "      <th>TEOS<\/th>\n",
       "      <th>m-Xylene<\/th>\n",
       "      <th>o-Xylene<\/th>\n",
       "    <\/tr>\n",
       "  <\/thead>\n",
       "  <tbody>\n",
       "    <tr>\n",
       "      <th>0<\/th>\n",
       "      <td>10.1007\/s10008-002-0300-9<\/td>\n",
       "      <td>0.160643<\/td>\n",
       "      <td>333.235034<\/td>\n",
       "      <td>1.0<\/td>\n",
       "      <td>LiPF6<\/td>\n",
       "      <td>mol\/kg<\/td>\n",
       "      <td>w<\/td>\n",
       "      <td>3.747445<\/td>\n",
       "      <td>0.0<\/td>\n",
       "      <td>3.66341<\/td>\n",
       "      <td>...<\/td>\n",
       "      <td>0.0<\/td>\n",
       "      <td>0.0<\/td>\n",
       "      <td>0.0<\/td>\n",
       "      <td>0.0<\/td>\n",
       "      <td>0.0<\/td>\n",
       "      <td>0.0<\/td>\n",
       "      <td>0.0<\/td>\n",
       "      <td>0.0<\/td>\n",
       "      <td>0.0<\/td>\n",
       "      <td>0.0<\/td>\n",
       "    <\/tr>\n",
       "    <tr>\n",
       "      <th>1<\/th>\n",
       "      <td>10.1007\/s10008-002-0300-9<\/td>\n",
       "      <td>0.150856<\/td>\n",
       "      <td>322.764924<\/td>\n",
       "      <td>1.0<\/td>\n",
       "      <td>LiPF6<\/td>\n",
       "      <td>mol\/kg<\/td>\n",
       "      <td>w<\/td>\n",
       "      <td>3.747445<\/td>\n",
       "      <td>0.0<\/td>\n",
       "      <td>3.66341<\/td>\n",
       "      <td>...<\/td>\n",
       "      <td>0.0<\/td>\n",
       "      <td>0.0<\/td>\n",
       "      <td>0.0<\/td>\n",
       "      <td>0.0<\/td>\n",
       "      <td>0.0<\/td>\n",
       "      <td>0.0<\/td>\n",
       "      <td>0.0<\/td>\n",
       "      <td>0.0<\/td>\n",
       "      <td>0.0<\/td>\n",
       "      <td>0.0<\/td>\n",
       "    <\/tr>\n",
       "    <tr>\n",
       "      <th>2<\/th>\n",
       "      <td>10.1007\/s10008-002-0300-9<\/td>\n",
       "      <td>0.141666<\/td>\n",
       "      <td>313.801722<\/td>\n",
       "      <td>1.0<\/td>\n",
       "      <td>LiPF6<\/td>\n",
       "      <td>mol\/kg<\/td>\n",
       "      <td>w<\/td>\n",
       "      <td>3.747445<\/td>\n",
       "      <td>0.0<\/td>\n",
       "      <td>3.66341<\/td>\n",
       "      <td>...<\/td>\n",
       "      <td>0.0<\/td>\n",
       "      <td>0.0<\/td>\n",
       "      <td>0.0<\/td>\n",
       "      <td>0.0<\/td>\n",
       "      <td>0.0<\/td>\n",
       "      <td>0.0<\/td>\n",
       "      <td>0.0<\/td>\n",
       "      <td>0.0<\/td>\n",
       "      <td>0.0<\/td>\n",
       "      <td>0.0<\/td>\n",
       "    <\/tr>\n",
       "    <tr>\n",
       "      <th>3<\/th>\n",
       "      <td>10.1007\/s10008-002-0300-9<\/td>\n",
       "      <td>0.132277<\/td>\n",
       "      <td>303.681806<\/td>\n",
       "      <td>1.0<\/td>\n",
       "      <td>LiPF6<\/td>\n",
       "      <td>mol\/kg<\/td>\n",
       "      <td>w<\/td>\n",
       "      <td>3.747445<\/td>\n",
       "      <td>0.0<\/td>\n",
       "      <td>3.66341<\/td>\n",
       "      <td>...<\/td>\n",
       "      <td>0.0<\/td>\n",
       "      <td>0.0<\/td>\n",
       "      <td>0.0<\/td>\n",
       "      <td>0.0<\/td>\n",
       "      <td>0.0<\/td>\n",
       "      <td>0.0<\/td>\n",
       "      <td>0.0<\/td>\n",
       "      <td>0.0<\/td>\n",
       "      <td>0.0<\/td>\n",
       "      <td>0.0<\/td>\n",
       "    <\/tr>\n",
       "    <tr>\n",
       "      <th>4<\/th>\n",
       "      <td>10.1007\/s10008-002-0300-9<\/td>\n",
       "      <td>0.119348<\/td>\n",
       "      <td>293.049793<\/td>\n",
       "      <td>1.0<\/td>\n",
       "      <td>LiPF6<\/td>\n",
       "      <td>mol\/kg<\/td>\n",
       "      <td>w<\/td>\n",
       "      <td>3.747445<\/td>\n",
       "      <td>0.0<\/td>\n",
       "      <td>3.66341<\/td>\n",
       "      <td>...<\/td>\n",
       "      <td>0.0<\/td>\n",
       "      <td>0.0<\/td>\n",
       "      <td>0.0<\/td>\n",
       "      <td>0.0<\/td>\n",
       "      <td>0.0<\/td>\n",
       "      <td>0.0<\/td>\n",
       "      <td>0.0<\/td>\n",
       "      <td>0.0<\/td>\n",
       "      <td>0.0<\/td>\n",
       "      <td>0.0<\/td>\n",
       "    <\/tr>\n",
       "    <tr>\n",
       "      <th>...<\/th>\n",
       "      <td>...<\/td>\n",
       "      <td>...<\/td>\n",
       "      <td>...<\/td>\n",
       "      <td>...<\/td>\n",
       "      <td>...<\/td>\n",
       "      <td>...<\/td>\n",
       "      <td>...<\/td>\n",
       "      <td>...<\/td>\n",
       "      <td>...<\/td>\n",
       "      <td>...<\/td>\n",
       "      <td>...<\/td>\n",
       "      <td>...<\/td>\n",
       "      <td>...<\/td>\n",
       "      <td>...<\/td>\n",
       "      <td>...<\/td>\n",
       "      <td>...<\/td>\n",
       "      <td>...<\/td>\n",
       "      <td>...<\/td>\n",
       "      <td>...<\/td>\n",
       "      <td>...<\/td>\n",
       "      <td>...<\/td>\n",
       "    <\/tr>\n",
       "    <tr>\n",
       "      <th>12190<\/th>\n",
       "      <td>10.1149\/2.0981803jes<\/td>\n",
       "      <td>13.930000<\/td>\n",
       "      <td>313.150000<\/td>\n",
       "      <td>2.0<\/td>\n",
       "      <td>LiPF6<\/td>\n",
       "      <td>mol\/kg<\/td>\n",
       "      <td>w<\/td>\n",
       "      <td>3.406768<\/td>\n",
       "      <td>0.0<\/td>\n",
       "      <td>7.77087<\/td>\n",
       "      <td>...<\/td>\n",
       "      <td>0.0<\/td>\n",
       "      <td>0.0<\/td>\n",
       "      <td>0.0<\/td>\n",
       "      <td>0.0<\/td>\n",
       "      <td>0.0<\/td>\n",
       "      <td>0.0<\/td>\n",
       "      <td>0.0<\/td>\n",
       "      <td>0.0<\/td>\n",
       "      <td>0.0<\/td>\n",
       "      <td>0.0<\/td>\n",
       "    <\/tr>\n",
       "    <tr>\n",
       "      <th>12191<\/th>\n",
       "      <td>10.1149\/2.0981803jes<\/td>\n",
       "      <td>6.360000<\/td>\n",
       "      <td>313.150000<\/td>\n",
       "      <td>2.0<\/td>\n",
       "      <td>LiPF6<\/td>\n",
       "      <td>mol\/kg<\/td>\n",
       "      <td>w<\/td>\n",
       "      <td>0.000000<\/td>\n",
       "      <td>0.0<\/td>\n",
       "      <td>0.00000<\/td>\n",
       "      <td>...<\/td>\n",
       "      <td>0.0<\/td>\n",
       "      <td>0.0<\/td>\n",
       "      <td>0.0<\/td>\n",
       "      <td>0.0<\/td>\n",
       "      <td>0.0<\/td>\n",
       "      <td>0.0<\/td>\n",
       "      <td>0.0<\/td>\n",
       "      <td>0.0<\/td>\n",
       "      <td>0.0<\/td>\n",
       "      <td>0.0<\/td>\n",
       "    <\/tr>\n",
       "    <tr>\n",
       "      <th>12192<\/th>\n",
       "      <td>10.1149\/2.0981803jes<\/td>\n",
       "      <td>8.690000<\/td>\n",
       "      <td>313.150000<\/td>\n",
       "      <td>2.0<\/td>\n",
       "      <td>LiPF6<\/td>\n",
       "      <td>mol\/kg<\/td>\n",
       "      <td>w<\/td>\n",
       "      <td>1.135589<\/td>\n",
       "      <td>0.0<\/td>\n",
       "      <td>0.00000<\/td>\n",
       "      <td>...<\/td>\n",
       "      <td>0.0<\/td>\n",
       "      <td>0.0<\/td>\n",
       "      <td>0.0<\/td>\n",
       "      <td>0.0<\/td>\n",
       "      <td>0.0<\/td>\n",
       "      <td>0.0<\/td>\n",
       "      <td>0.0<\/td>\n",
       "      <td>0.0<\/td>\n",
       "      <td>0.0<\/td>\n",
       "      <td>0.0<\/td>\n",
       "    <\/tr>\n",
       "    <tr>\n",
       "      <th>12193<\/th>\n",
       "      <td>10.1149\/2.0981803jes<\/td>\n",
       "      <td>9.070000<\/td>\n",
       "      <td>313.150000<\/td>\n",
       "      <td>2.0<\/td>\n",
       "      <td>LiPF6<\/td>\n",
       "      <td>mol\/kg<\/td>\n",
       "      <td>w<\/td>\n",
       "      <td>2.271179<\/td>\n",
       "      <td>0.0<\/td>\n",
       "      <td>0.00000<\/td>\n",
       "      <td>...<\/td>\n",
       "      <td>0.0<\/td>\n",
       "      <td>0.0<\/td>\n",
       "      <td>0.0<\/td>\n",
       "      <td>0.0<\/td>\n",
       "      <td>0.0<\/td>\n",
       "      <td>0.0<\/td>\n",
       "      <td>0.0<\/td>\n",
       "      <td>0.0<\/td>\n",
       "      <td>0.0<\/td>\n",
       "      <td>0.0<\/td>\n",
       "    <\/tr>\n",
       "    <tr>\n",
       "      <th>12194<\/th>\n",
       "      <td>10.1149\/2.0981803jes<\/td>\n",
       "      <td>9.750000<\/td>\n",
       "      <td>313.150000<\/td>\n",
       "      <td>2.0<\/td>\n",
       "      <td>LiPF6<\/td>\n",
       "      <td>mol\/kg<\/td>\n",
       "      <td>w<\/td>\n",
       "      <td>3.406768<\/td>\n",
       "      <td>0.0<\/td>\n",
       "      <td>0.00000<\/td>\n",
       "      <td>...<\/td>\n",
       "      <td>0.0<\/td>\n",
       "      <td>0.0<\/td>\n",
       "      <td>0.0<\/td>\n",
       "      <td>0.0<\/td>\n",
       "      <td>0.0<\/td>\n",
       "      <td>0.0<\/td>\n",
       "      <td>0.0<\/td>\n",
       "      <td>0.0<\/td>\n",
       "      <td>0.0<\/td>\n",
       "      <td>0.0<\/td>\n",
       "    <\/tr>\n",
       "  <\/tbody>\n",
       "<\/table>\n",
       "<p>10805 rows × 45 columns<\/p>\n",
       "<\/div>"
      ]
     },
     "metadata":{
      
     },
     "output_type":"display_data"
    }
   ],
   "metadata":{
    "datalore":{
     "node_id":"i6IY9DnZjSvl3rLR0J1VZm",
     "type":"CODE",
     "hide_input_from_viewers":true,
     "hide_output_from_viewers":true
    }
   }
  },
  {
   "cell_type":"markdown",
   "source":[
    "## Data Distributions"
   ],
   "attachments":{
    
   },
   "metadata":{
    "datalore":{
     "node_id":"c7PapPS3OAf63OR5178PK1",
     "type":"MD",
     "hide_input_from_viewers":true,
     "hide_output_from_viewers":true
    }
   }
  },
  {
   "cell_type":"code",
   "source":[
    "missing_rows = dataset[dataset['k'].isnull()]\n",
    "missing_rows['doi'].value_counts()"
   ],
   "execution_count":13,
   "outputs":[
    {
     "data":{
      "text\/html":[
       "<pre>10.1016\/0378-7753(91)80004-H    469\n",
       "10.1021\/JE020219O                53\n",
       "10.1149\/2.0981803jes              1\n",
       "Name: doi, dtype: int64<\/pre>"
      ]
     },
     "metadata":{
      
     },
     "output_type":"display_data"
    }
   ],
   "metadata":{
    "datalore":{
     "node_id":"2p0kInWFi55LO7bFBOlXUE",
     "type":"CODE",
     "hide_input_from_viewers":true,
     "hide_output_from_viewers":true
    }
   }
  },
  {
   "cell_type":"code",
   "source":[
    "dataset[dataset['doi'] == \"10.1149\/2.0981803jes\"]"
   ],
   "execution_count":18,
   "outputs":[
    {
     "data":{
      "text\/html":[
       "<div>\n",
       "<style scoped>\n",
       "    .dataframe tbody tr th:only-of-type {\n",
       "        vertical-align: middle;\n",
       "    }\n",
       "\n",
       "    .dataframe tbody tr th {\n",
       "        vertical-align: top;\n",
       "    }\n",
       "\n",
       "    .dataframe thead th {\n",
       "        text-align: right;\n",
       "    }\n",
       "<\/style>\n",
       "<table border=\"1\" class=\"dataframe\">\n",
       "  <thead>\n",
       "    <tr style=\"text-align: right;\">\n",
       "      <th><\/th>\n",
       "      <th>doi<\/th>\n",
       "      <th>k<\/th>\n",
       "      <th>T<\/th>\n",
       "      <th>c<\/th>\n",
       "      <th>salt<\/th>\n",
       "      <th>c units<\/th>\n",
       "      <th>solvent ratio type<\/th>\n",
       "      <th>EC<\/th>\n",
       "      <th>PC<\/th>\n",
       "      <th>DMC<\/th>\n",
       "      <th>...<\/th>\n",
       "      <th>Ethylbenzene<\/th>\n",
       "      <th>Ethylmonoglyme<\/th>\n",
       "      <th>Benzene<\/th>\n",
       "      <th>g-Butyrolactone<\/th>\n",
       "      <th>Cumene<\/th>\n",
       "      <th>Propylsulfone<\/th>\n",
       "      <th>Pseudocumeme<\/th>\n",
       "      <th>TEOS<\/th>\n",
       "      <th>m-Xylene<\/th>\n",
       "      <th>o-Xylene<\/th>\n",
       "    <\/tr>\n",
       "  <\/thead>\n",
       "  <tbody>\n",
       "    <tr>\n",
       "      <th>12035<\/th>\n",
       "      <td>10.1149\/2.0981803jes<\/td>\n",
       "      <td>NaN<\/td>\n",
       "      <td>273.15<\/td>\n",
       "      <td>0.5<\/td>\n",
       "      <td>LiPF6<\/td>\n",
       "      <td>mol\/kg<\/td>\n",
       "      <td>w<\/td>\n",
       "      <td>0.0<\/td>\n",
       "      <td>0.0<\/td>\n",
       "      <td>1.0<\/td>\n",
       "      <td>...<\/td>\n",
       "      <td>0.0<\/td>\n",
       "      <td>0.0<\/td>\n",
       "      <td>0.0<\/td>\n",
       "      <td>0.0<\/td>\n",
       "      <td>0.0<\/td>\n",
       "      <td>0.0<\/td>\n",
       "      <td>0.0<\/td>\n",
       "      <td>0<\/td>\n",
       "      <td>0.0<\/td>\n",
       "      <td>0.0<\/td>\n",
       "    <\/tr>\n",
       "    <tr>\n",
       "      <th>12036<\/th>\n",
       "      <td>10.1149\/2.0981803jes<\/td>\n",
       "      <td>4.28<\/td>\n",
       "      <td>273.15<\/td>\n",
       "      <td>0.5<\/td>\n",
       "      <td>LiPF6<\/td>\n",
       "      <td>mol\/kg<\/td>\n",
       "      <td>w<\/td>\n",
       "      <td>0.1<\/td>\n",
       "      <td>0.0<\/td>\n",
       "      <td>0.9<\/td>\n",
       "      <td>...<\/td>\n",
       "      <td>0.0<\/td>\n",
       "      <td>0.0<\/td>\n",
       "      <td>0.0<\/td>\n",
       "      <td>0.0<\/td>\n",
       "      <td>0.0<\/td>\n",
       "      <td>0.0<\/td>\n",
       "      <td>0.0<\/td>\n",
       "      <td>0<\/td>\n",
       "      <td>0.0<\/td>\n",
       "      <td>0.0<\/td>\n",
       "    <\/tr>\n",
       "    <tr>\n",
       "      <th>12037<\/th>\n",
       "      <td>10.1149\/2.0981803jes<\/td>\n",
       "      <td>5.96<\/td>\n",
       "      <td>273.15<\/td>\n",
       "      <td>0.5<\/td>\n",
       "      <td>LiPF6<\/td>\n",
       "      <td>mol\/kg<\/td>\n",
       "      <td>w<\/td>\n",
       "      <td>0.2<\/td>\n",
       "      <td>0.0<\/td>\n",
       "      <td>0.8<\/td>\n",
       "      <td>...<\/td>\n",
       "      <td>0.0<\/td>\n",
       "      <td>0.0<\/td>\n",
       "      <td>0.0<\/td>\n",
       "      <td>0.0<\/td>\n",
       "      <td>0.0<\/td>\n",
       "      <td>0.0<\/td>\n",
       "      <td>0.0<\/td>\n",
       "      <td>0<\/td>\n",
       "      <td>0.0<\/td>\n",
       "      <td>0.0<\/td>\n",
       "    <\/tr>\n",
       "    <tr>\n",
       "      <th>12038<\/th>\n",
       "      <td>10.1149\/2.0981803jes<\/td>\n",
       "      <td>6.47<\/td>\n",
       "      <td>273.15<\/td>\n",
       "      <td>0.5<\/td>\n",
       "      <td>LiPF6<\/td>\n",
       "      <td>mol\/kg<\/td>\n",
       "      <td>w<\/td>\n",
       "      <td>0.3<\/td>\n",
       "      <td>0.0<\/td>\n",
       "      <td>0.7<\/td>\n",
       "      <td>...<\/td>\n",
       "      <td>0.0<\/td>\n",
       "      <td>0.0<\/td>\n",
       "      <td>0.0<\/td>\n",
       "      <td>0.0<\/td>\n",
       "      <td>0.0<\/td>\n",
       "      <td>0.0<\/td>\n",
       "      <td>0.0<\/td>\n",
       "      <td>0<\/td>\n",
       "      <td>0.0<\/td>\n",
       "      <td>0.0<\/td>\n",
       "    <\/tr>\n",
       "    <tr>\n",
       "      <th>12039<\/th>\n",
       "      <td>10.1149\/2.0981803jes<\/td>\n",
       "      <td>1.12<\/td>\n",
       "      <td>273.15<\/td>\n",
       "      <td>0.5<\/td>\n",
       "      <td>LiPF6<\/td>\n",
       "      <td>mol\/kg<\/td>\n",
       "      <td>w<\/td>\n",
       "      <td>0.0<\/td>\n",
       "      <td>0.0<\/td>\n",
       "      <td>0.0<\/td>\n",
       "      <td>...<\/td>\n",
       "      <td>0.0<\/td>\n",
       "      <td>0.0<\/td>\n",
       "      <td>0.0<\/td>\n",
       "      <td>0.0<\/td>\n",
       "      <td>0.0<\/td>\n",
       "      <td>0.0<\/td>\n",
       "      <td>0.0<\/td>\n",
       "      <td>0<\/td>\n",
       "      <td>0.0<\/td>\n",
       "      <td>0.0<\/td>\n",
       "    <\/tr>\n",
       "    <tr>\n",
       "      <th>...<\/th>\n",
       "      <td>...<\/td>\n",
       "      <td>...<\/td>\n",
       "      <td>...<\/td>\n",
       "      <td>...<\/td>\n",
       "      <td>...<\/td>\n",
       "      <td>...<\/td>\n",
       "      <td>...<\/td>\n",
       "      <td>...<\/td>\n",
       "      <td>...<\/td>\n",
       "      <td>...<\/td>\n",
       "      <td>...<\/td>\n",
       "      <td>...<\/td>\n",
       "      <td>...<\/td>\n",
       "      <td>...<\/td>\n",
       "      <td>...<\/td>\n",
       "      <td>...<\/td>\n",
       "      <td>...<\/td>\n",
       "      <td>...<\/td>\n",
       "      <td>...<\/td>\n",
       "      <td>...<\/td>\n",
       "      <td>...<\/td>\n",
       "    <\/tr>\n",
       "    <tr>\n",
       "      <th>12190<\/th>\n",
       "      <td>10.1149\/2.0981803jes<\/td>\n",
       "      <td>13.93<\/td>\n",
       "      <td>313.15<\/td>\n",
       "      <td>2.0<\/td>\n",
       "      <td>LiPF6<\/td>\n",
       "      <td>mol\/kg<\/td>\n",
       "      <td>w<\/td>\n",
       "      <td>0.3<\/td>\n",
       "      <td>0.0<\/td>\n",
       "      <td>0.7<\/td>\n",
       "      <td>...<\/td>\n",
       "      <td>0.0<\/td>\n",
       "      <td>0.0<\/td>\n",
       "      <td>0.0<\/td>\n",
       "      <td>0.0<\/td>\n",
       "      <td>0.0<\/td>\n",
       "      <td>0.0<\/td>\n",
       "      <td>0.0<\/td>\n",
       "      <td>0<\/td>\n",
       "      <td>0.0<\/td>\n",
       "      <td>0.0<\/td>\n",
       "    <\/tr>\n",
       "    <tr>\n",
       "      <th>12191<\/th>\n",
       "      <td>10.1149\/2.0981803jes<\/td>\n",
       "      <td>6.36<\/td>\n",
       "      <td>313.15<\/td>\n",
       "      <td>2.0<\/td>\n",
       "      <td>LiPF6<\/td>\n",
       "      <td>mol\/kg<\/td>\n",
       "      <td>w<\/td>\n",
       "      <td>0.0<\/td>\n",
       "      <td>0.0<\/td>\n",
       "      <td>0.0<\/td>\n",
       "      <td>...<\/td>\n",
       "      <td>0.0<\/td>\n",
       "      <td>0.0<\/td>\n",
       "      <td>0.0<\/td>\n",
       "      <td>0.0<\/td>\n",
       "      <td>0.0<\/td>\n",
       "      <td>0.0<\/td>\n",
       "      <td>0.0<\/td>\n",
       "      <td>0<\/td>\n",
       "      <td>0.0<\/td>\n",
       "      <td>0.0<\/td>\n",
       "    <\/tr>\n",
       "    <tr>\n",
       "      <th>12192<\/th>\n",
       "      <td>10.1149\/2.0981803jes<\/td>\n",
       "      <td>8.69<\/td>\n",
       "      <td>313.15<\/td>\n",
       "      <td>2.0<\/td>\n",
       "      <td>LiPF6<\/td>\n",
       "      <td>mol\/kg<\/td>\n",
       "      <td>w<\/td>\n",
       "      <td>0.1<\/td>\n",
       "      <td>0.0<\/td>\n",
       "      <td>0.0<\/td>\n",
       "      <td>...<\/td>\n",
       "      <td>0.0<\/td>\n",
       "      <td>0.0<\/td>\n",
       "      <td>0.0<\/td>\n",
       "      <td>0.0<\/td>\n",
       "      <td>0.0<\/td>\n",
       "      <td>0.0<\/td>\n",
       "      <td>0.0<\/td>\n",
       "      <td>0<\/td>\n",
       "      <td>0.0<\/td>\n",
       "      <td>0.0<\/td>\n",
       "    <\/tr>\n",
       "    <tr>\n",
       "      <th>12193<\/th>\n",
       "      <td>10.1149\/2.0981803jes<\/td>\n",
       "      <td>9.07<\/td>\n",
       "      <td>313.15<\/td>\n",
       "      <td>2.0<\/td>\n",
       "      <td>LiPF6<\/td>\n",
       "      <td>mol\/kg<\/td>\n",
       "      <td>w<\/td>\n",
       "      <td>0.2<\/td>\n",
       "      <td>0.0<\/td>\n",
       "      <td>0.0<\/td>\n",
       "      <td>...<\/td>\n",
       "      <td>0.0<\/td>\n",
       "      <td>0.0<\/td>\n",
       "      <td>0.0<\/td>\n",
       "      <td>0.0<\/td>\n",
       "      <td>0.0<\/td>\n",
       "      <td>0.0<\/td>\n",
       "      <td>0.0<\/td>\n",
       "      <td>0<\/td>\n",
       "      <td>0.0<\/td>\n",
       "      <td>0.0<\/td>\n",
       "    <\/tr>\n",
       "    <tr>\n",
       "      <th>12194<\/th>\n",
       "      <td>10.1149\/2.0981803jes<\/td>\n",
       "      <td>9.75<\/td>\n",
       "      <td>313.15<\/td>\n",
       "      <td>2.0<\/td>\n",
       "      <td>LiPF6<\/td>\n",
       "      <td>mol\/kg<\/td>\n",
       "      <td>w<\/td>\n",
       "      <td>0.3<\/td>\n",
       "      <td>0.0<\/td>\n",
       "      <td>0.0<\/td>\n",
       "      <td>...<\/td>\n",
       "      <td>0.0<\/td>\n",
       "      <td>0.0<\/td>\n",
       "      <td>0.0<\/td>\n",
       "      <td>0.0<\/td>\n",
       "      <td>0.0<\/td>\n",
       "      <td>0.0<\/td>\n",
       "      <td>0.0<\/td>\n",
       "      <td>0<\/td>\n",
       "      <td>0.0<\/td>\n",
       "      <td>0.0<\/td>\n",
       "    <\/tr>\n",
       "  <\/tbody>\n",
       "<\/table>\n",
       "<p>160 rows × 45 columns<\/p>\n",
       "<\/div>"
      ]
     },
     "metadata":{
      
     },
     "output_type":"display_data"
    }
   ],
   "metadata":{
    "datalore":{
     "node_id":"x6UMwfEn4QUVO4LAGuTavu",
     "type":"CODE",
     "hide_input_from_viewers":true,
     "hide_output_from_viewers":true
    }
   }
  },
  {
   "cell_type":"markdown",
   "source":[
    "## Distribution - Conductivity"
   ],
   "attachments":{
    
   },
   "metadata":{
    "datalore":{
     "node_id":"Fb13Rra6hocTjR85Y3piHf",
     "type":"MD",
     "hide_input_from_viewers":true,
     "hide_output_from_viewers":true
    }
   }
  },
  {
   "cell_type":"markdown",
   "source":[
    "## All k"
   ],
   "attachments":{
    
   },
   "metadata":{
    "datalore":{
     "node_id":"rHweeQBmRhkEbnlMjjYVH7",
     "type":"MD",
     "hide_input_from_viewers":true,
     "hide_output_from_viewers":true
    }
   }
  },
  {
   "cell_type":"code",
   "source":[
    "import pandas as pd\n",
    "import matplotlib.pyplot as plt\n",
    "import matplotlib as mpl\n",
    "\n",
    "# Assuming 'df' is your DataFrame and 'column_name' is the column you want to visualize\n",
    "column_name = 'doi'  # Replace with your actual column name\n",
    "\n",
    "plt.figure(figsize=(10, 6))  # Adjust the figure size as needed\n",
    "\n",
    "# Create the histogram\n",
    "num_bins = 150\n",
    "n, bins, patches = plt.hist(dataset['k'], bins=num_bins, color='blue', edgecolor='black')\n",
    "\n",
    "# Define colors for bars (alternating between red and blue)\n",
    "colors = ['coral', 'lightblue'] * (num_bins \/\/ 2) + ['coral'] * (num_bins % 2)\n",
    "\n",
    "for patch, color in zip(patches, colors):\n",
    "    patch.set_facecolor(color)\n",
    "\n",
    "# plt.xticks(rotation=45)\n",
    "mpl.rcParams['font.family'] = 'serif'\n",
    "\n",
    "# Set x-axis labels to be displayed diagonally\n",
    "plt.xlabel('Conductivity [mS\/cm]', fontsize=14)  # Rotation and alignment settings\n",
    "plt.ylabel('Counts', fontsize=14)\n",
    "plt.title(f'Distribution of Conductivity (k)', fontsize=16)\n",
    "\n",
    "plt.tight_layout()  # Ensures that the labels fit properly in the figure\n",
    "#plt.xlim(0, 5)\n",
    "plt.savefig('conductivity_histogram_full.pdf', dpi=300, bbox_inches='tight')\n",
    "plt.show()"
   ],
   "execution_count":18,
   "outputs":[
    {
     "data":{
      "image\/png":"[encoded data removed]"
     },
     "metadata":{
      "image\/png":{
       
      }
     },
     "output_type":"display_data"
    }
   ],
   "metadata":{
    "datalore":{
     "node_id":"TLZQcXJWSiFVurhN9Udk6E",
     "type":"CODE",
     "hide_input_from_viewers":true,
     "hide_output_from_viewers":true
    }
   }
  },
  {
   "cell_type":"markdown",
   "source":[
    "## k > 15"
   ],
   "attachments":{
    
   },
   "metadata":{
    "datalore":{
     "node_id":"F5VcIFL1uhutgVwwLdiCo6",
     "type":"MD",
     "hide_input_from_viewers":true,
     "hide_output_from_viewers":true
    }
   }
  },
  {
   "cell_type":"code",
   "source":[
    "import pandas as pd\n",
    "import matplotlib.pyplot as plt\n",
    "import matplotlib as mpl\n",
    "\n",
    "# Assuming 'df' is your DataFrame and 'column_name' is the column you want to visualize\n",
    "column_name = 'doi'  # Replace with your actual column name\n",
    "\n",
    "plt.figure(figsize=(10, 6))  # Adjust the figure size as needed\n",
    "\n",
    "# Create the histogram\n",
    "num_bins = 100\n",
    "n, bins, patches = plt.hist(dataset['k'][dataset['k']>15], bins=num_bins, color='blue', edgecolor='black')\n",
    "\n",
    "# Define colors for bars (alternating between red and blue)\n",
    "colors = ['coral', 'lightblue'] * (num_bins \/\/ 2) + ['coral'] * (num_bins % 2)\n",
    "\n",
    "for patch, color in zip(patches, colors):\n",
    "    patch.set_facecolor(color)\n",
    "\n",
    "# plt.xticks(rotation=45)\n",
    "mpl.rcParams['font.family'] = 'serif'\n",
    "\n",
    "# Set x-axis labels to be displayed diagonally\n",
    "plt.xlabel('Conductivity [mS\/cm]', fontsize=14)  # Rotation and alignment settings\n",
    "plt.ylabel('Counts', fontsize=14)\n",
    "plt.title(f'Distribution of Conductivity (k) for k > 15', fontsize=16)\n",
    "\n",
    "plt.tight_layout()  # Ensures that the labels fit properly in the figure\n",
    "plt.savefig('conductivity_histogram_k_largerthan15.pdf', dpi=300, bbox_inches='tight')\n",
    "\n",
    "plt.show()"
   ],
   "execution_count":19,
   "outputs":[
    {
     "data":{
      "image\/png":"[encoded data removed]"
     },
     "metadata":{
      "image\/png":{
       
      }
     },
     "output_type":"display_data"
    }
   ],
   "metadata":{
    "datalore":{
     "node_id":"wgg4IbUAzPJNLCkqzVfSVf",
     "type":"CODE",
     "hide_input_from_viewers":true,
     "hide_output_from_viewers":true
    }
   }
  },
  {
   "cell_type":"markdown",
   "source":[
    "## DOI Distributions"
   ],
   "attachments":{
    
   },
   "metadata":{
    "datalore":{
     "node_id":"kcKlPsX8OlUTjtld0QywRe",
     "type":"MD",
     "hide_input_from_viewers":true,
     "hide_output_from_viewers":true
    }
   }
  },
  {
   "cell_type":"markdown",
   "source":[
    "### More than 250 points"
   ],
   "attachments":{
    
   },
   "metadata":{
    "datalore":{
     "node_id":"V8E4WLaHrRlpwqzcl6jxs8",
     "type":"MD",
     "hide_input_from_viewers":true,
     "hide_output_from_viewers":true
    }
   }
  },
  {
   "cell_type":"code",
   "source":[
    "import pandas as pd\n",
    "import matplotlib.pyplot as plt\n",
    "\n",
    "# Assuming 'df' is your DataFrame and 'column_name' is the column you want to visualize\n",
    "column_name = 'doi'  # Replace with your actual column name\n",
    "threshold = 250\n",
    "\n",
    "# Calculate the value counts for the column\n",
    "value_counts = dataset[column_name].value_counts()\n",
    "\n",
    "# Filter the values that occur less than the threshold\n",
    "filtered_values = value_counts[value_counts > threshold]\n",
    "filtered_df = dataset['doi'][dataset['doi'].isin(list(filtered_values.index))]\n",
    "\n",
    "plt.figure(figsize=(10, 6))  # Adjust the figure size as needed\n",
    "\n",
    "# Create the histogram\n",
    "num_bins = len(filtered_values)\n",
    "n, bins, patches = plt.hist(filtered_df, bins=num_bins, color='blue', edgecolor='black')\n",
    "\n",
    "# Define colors for bars (alternating between red and blue)\n",
    "colors = ['coral', 'lightblue'] * (num_bins \/\/ 2) + ['coral'] * (num_bins % 2)\n",
    "\n",
    "for patch, color in zip(patches, colors):\n",
    "    patch.set_facecolor(color)\n",
    "\n",
    "plt.xticks(rotation=45)\n",
    "\n",
    "# Set x-axis labels to be displayed diagonally\n",
    "plt.xlabel('DOI', fontsize=14)  # Rotation and alignment settings\n",
    "\n",
    "plt.ylabel('Counts', fontsize=14)\n",
    "plt.title(f'Distribution of DOI (Counts > {threshold})', fontsize=16)\n",
    "\n",
    "plt.tight_layout()  # Ensures that the labels fit properly in the figure\n",
    "plt.savefig('doi_histogram_countlargerthan250.pdf', dpi=300, bbox_inches='tight')\n",
    "\n",
    "plt.show()"
   ],
   "execution_count":40,
   "outputs":[
    {
     "data":{
      "image\/png":"[encoded data removed]"
     },
     "metadata":{
      "image\/png":{
       
      }
     },
     "output_type":"display_data"
    }
   ],
   "metadata":{
    "datalore":{
     "node_id":"Ut8vXg5LLuVS6JVeWMzwBp",
     "type":"CODE",
     "hide_input_from_viewers":true,
     "hide_output_from_viewers":true
    }
   }
  },
  {
   "cell_type":"code",
   "source":[
    "np.sum(n)"
   ],
   "execution_count":41,
   "outputs":[
    {
     "data":{
      "text\/plain":[
       "12614.0"
      ]
     },
     "metadata":{
      
     },
     "output_type":"display_data"
    }
   ],
   "metadata":{
    "datalore":{
     "node_id":"UQkyRk4UIzr5ZFXrfToRFT",
     "type":"CODE",
     "hide_input_from_viewers":true,
     "hide_output_from_viewers":true
    }
   }
  },
  {
   "cell_type":"code",
   "source":[
    "12614.0+1211.0"
   ],
   "execution_count":43,
   "outputs":[
    {
     "data":{
      "text\/plain":[
       "13825.0"
      ]
     },
     "metadata":{
      
     },
     "output_type":"display_data"
    }
   ],
   "metadata":{
    "datalore":{
     "node_id":"wWgWOIhHUlSZTQt52y2b6p",
     "type":"CODE",
     "hide_input_from_viewers":true,
     "hide_output_from_viewers":true
    }
   }
  },
  {
   "cell_type":"code",
   "source":[
    "12614.0\/(12614.0+1211.0)"
   ],
   "execution_count":42,
   "outputs":[
    {
     "data":{
      "text\/plain":[
       "0.9124050632911392"
      ]
     },
     "metadata":{
      
     },
     "output_type":"display_data"
    }
   ],
   "metadata":{
    "datalore":{
     "node_id":"9NxBDMyYf4FA1MTTPaCf5s",
     "type":"CODE",
     "hide_input_from_viewers":true,
     "hide_output_from_viewers":true
    }
   }
  },
  {
   "cell_type":"markdown",
   "source":[
    "### Less than 250 points"
   ],
   "attachments":{
    
   },
   "metadata":{
    "datalore":{
     "node_id":"4NCUez6pysfVXkWoKB1JRk",
     "type":"MD",
     "hide_input_from_viewers":true,
     "hide_output_from_viewers":true
    }
   }
  },
  {
   "cell_type":"code",
   "source":[
    "import pandas as pd\n",
    "import matplotlib.pyplot as plt\n",
    "\n",
    "# Assuming 'df' is your DataFrame and 'column_name' is the column you want to visualize\n",
    "column_name = 'doi'  # Replace with your actual column name\n",
    "threshold = 250\n",
    "\n",
    "# Calculate the value counts for the column\n",
    "value_counts = dataset[column_name].value_counts()\n",
    "\n",
    "# Filter the values that occur less than the threshold\n",
    "filtered_values = value_counts[value_counts < threshold]\n",
    "filtered_df = dataset['doi'][dataset['doi'].isin(list(filtered_values.index))]\n",
    "\n",
    "plt.figure(figsize=(10, 6))  # Adjust the figure size as needed\n",
    "\n",
    "# Create the histogram\n",
    "num_bins = len(filtered_values)\n",
    "n, bins, patches = plt.hist(filtered_df, bins=num_bins, color='blue', edgecolor='black')\n",
    "\n",
    "# Define colors for bars (alternating between red and blue)\n",
    "colors = ['coral', 'lightblue'] * (num_bins \/\/ 2) + ['coral'] * (num_bins % 2)\n",
    "\n",
    "for patch, color in zip(patches, colors):\n",
    "    patch.set_facecolor(color)\n",
    "\n",
    "plt.xticks(rotation=45)\n",
    "\n",
    "# Set x-axis labels to be displayed diagonally\n",
    "plt.xlabel('DOI', fontsize=14)  # Rotation and alignment settings\n",
    "\n",
    "plt.ylabel('Counts', fontsize=14)\n",
    "plt.title(f'Distribution of DOI (Counts < {threshold})', fontsize=16)\n",
    "\n",
    "plt.tight_layout()  # Ensures that the labels fit properly in the figure\n",
    "plt.savefig('doi_histogram_countlessthan250.pdf', dpi=300, bbox_inches='tight')\n",
    "\n",
    "plt.show()"
   ],
   "execution_count":37,
   "outputs":[
    {
     "data":{
      "image\/png":"[encoded data removed]"
     },
     "metadata":{
      "image\/png":{
       
      }
     },
     "output_type":"display_data"
    }
   ],
   "metadata":{
    "datalore":{
     "node_id":"2cyLJ3SIcJW51lYjORkrqN",
     "type":"CODE",
     "hide_input_from_viewers":true,
     "hide_output_from_viewers":true
    }
   }
  },
  {
   "cell_type":"code",
   "source":[
    "np.sum(n)"
   ],
   "execution_count":39,
   "outputs":[
    {
     "data":{
      "text\/plain":[
       "1211.0"
      ]
     },
     "metadata":{
      
     },
     "output_type":"display_data"
    }
   ],
   "metadata":{
    "datalore":{
     "node_id":"GEzuS80vYOBfqvSU80tv3R",
     "type":"CODE",
     "hide_input_from_viewers":true,
     "hide_output_from_viewers":true
    }
   }
  },
  {
   "cell_type":"markdown",
   "source":[
    "## Temperature Distribution"
   ],
   "attachments":{
    
   },
   "metadata":{
    "datalore":{
     "node_id":"61EOjwLmeGGO7iJXOgtpqd",
     "type":"MD",
     "hide_input_from_viewers":true,
     "hide_output_from_viewers":true
    }
   }
  },
  {
   "cell_type":"markdown",
   "source":[
    "### Counts < 200"
   ],
   "attachments":{
    
   },
   "metadata":{
    "datalore":{
     "node_id":"NvKFrCUk8IeCc8MJgTobga",
     "type":"MD",
     "hide_input_from_viewers":true,
     "hide_output_from_viewers":true
    }
   }
  },
  {
   "cell_type":"code",
   "source":[
    "import pandas as pd\n",
    "import matplotlib.pyplot as plt\n",
    "\n",
    "# Assuming 'df' is your DataFrame and 'column_name' is the column you want to visualize\n",
    "column_name = 'T'  # Replace with your actual column name\n",
    "\n",
    "plt.figure(figsize=(10, 6))  # Adjust the figure size as needed\n",
    "\n",
    "# Create the histogram\n",
    "num_bins = 30\n",
    "n, bins, patches = plt.hist(dataset['T'], bins=num_bins, color='lightblue', edgecolor='black')\n",
    "\n",
    "# Define colors for bars (alternating between red and blue)\n",
    "colors = ['coral', 'lightblue'] * (num_bins \/\/ 2) + ['coral'] * (num_bins % 2)\n",
    "\n",
    "for patch, color in zip(patches, colors):\n",
    "    patch.set_facecolor(color)\n",
    "\n",
    "# plt.xticks(rotation=45)\n",
    "\n",
    "# Set x-axis labels to be displayed diagonally\n",
    "plt.xlabel('Temperature [K]', fontsize=14)  # Rotation and alignment settings\n",
    "plt.ylabel('Counts', fontsize=14)\n",
    "plt.title(f'Distribution of Temperature (T)', fontsize=16)\n",
    "\n",
    "plt.tight_layout()  # Ensures that the labels fit properly in the figure\n",
    "plt.savefig('temperature_histogram.pdf', dpi=300, bbox_inches='tight')\n",
    "\n",
    "plt.show()"
   ],
   "execution_count":22,
   "outputs":[
    {
     "data":{
      "image\/png":"[encoded data removed]"
     },
     "metadata":{
      "image\/png":{
       
      }
     },
     "output_type":"display_data"
    }
   ],
   "metadata":{
    "datalore":{
     "node_id":"oPFBA4KyiL3SkXav6DhGi2",
     "type":"CODE",
     "hide_input_from_viewers":true,
     "hide_output_from_viewers":true
    }
   }
  },
  {
   "cell_type":"markdown",
   "source":[
    "## Concentration Distribution"
   ],
   "attachments":{
    
   },
   "metadata":{
    "datalore":{
     "node_id":"nPVPSy1UvxviZOosM16QUb",
     "type":"MD",
     "hide_input_from_viewers":true,
     "hide_output_from_viewers":true
    }
   }
  },
  {
   "cell_type":"code",
   "source":[
    "dataset.columns"
   ],
   "execution_count":25,
   "outputs":[
    {
     "data":{
      "text\/plain":[
       "Index(['doi', 'k', 'T', 'c', 'salt', 'c units', 'solvent ratio type', 'EC',\n",
       "       'PC', 'DMC', 'EMC', 'DEC', 'DME', 'DMSO', 'AN', 'MOEMC', 'TFP', 'EA',\n",
       "       'MA', 'FEC', 'DOL', '2-MeTHF', 'DMM', 'Freon 11', 'Methylene chloride',\n",
       "       'THF', 'Toluene', 'Sulfolane', '2-Glyme', '3-Glyme', '4-Glyme',\n",
       "       '3-Me-2-Oxazolidinone', '3-MeSulfolane', 'Ethyldiglyme', 'DMF',\n",
       "       'Ethylbenzene', 'Ethylmonoglyme', 'Benzene', 'g-Butyrolactone',\n",
       "       'Cumene', 'Propylsulfone', 'Pseudocumeme', 'TEOS', 'm-Xylene',\n",
       "       'o-Xylene'],\n",
       "      dtype='object')"
      ]
     },
     "metadata":{
      
     },
     "output_type":"display_data"
    }
   ],
   "metadata":{
    "datalore":{
     "node_id":"6RzOFDPUXqGC9K7xivTi11",
     "type":"CODE",
     "hide_input_from_viewers":true,
     "hide_output_from_viewers":true
    }
   }
  },
  {
   "cell_type":"markdown",
   "source":[
    "### Mol\/kg data points"
   ],
   "attachments":{
    
   },
   "metadata":{
    "datalore":{
     "node_id":"Q0SgPLIRWHVqcx58JMGdwb",
     "type":"MD",
     "hide_input_from_viewers":true,
     "hide_output_from_viewers":true
    }
   }
  },
  {
   "cell_type":"code",
   "source":[
    "import pandas as pd\n",
    "import matplotlib.pyplot as plt\n",
    "\n",
    "# Assuming 'df' is your DataFrame and 'column_name' is the column you want to visualize\n",
    "column_name = 'c'  # Replace with your actual column name\n",
    "\n",
    "plt.figure(figsize=(10, 6))  # Adjust the figure size as needed\n",
    "\n",
    "# Create the histogram\n",
    "num_bins = 40\n",
    "n, bins, patches = plt.hist(dataset['c'][dataset['c units']=='mol\/kg'], bins=num_bins, color='lightblue', edgecolor='black')\n",
    "\n",
    "# Define colors for bars (alternating between red and blue)\n",
    "colors = ['coral', 'lightblue'] * (num_bins \/\/ 2) + ['coral'] * (num_bins % 2)\n",
    "\n",
    "for patch, color in zip(patches, colors):\n",
    "    patch.set_facecolor(color)\n",
    "\n",
    "# plt.xticks(rotation=45)\n",
    "\n",
    "# Set x-axis labels to be displayed diagonally\n",
    "plt.xlabel('Concentration [mol\/kg]', fontsize=14)  # Rotation and alignment settings\n",
    "plt.ylabel('Counts', fontsize=14)\n",
    "plt.title(f'Distribution of Concentration (c, mol\/kg data points)', fontsize=16)\n",
    "\n",
    "plt.tight_layout()  # Ensures that the labels fit properly in the figure\n",
    "plt.savefig('concentration_histogram_molkg.pdf', dpi=300, bbox_inches='tight')\n",
    "\n",
    "plt.show()"
   ],
   "execution_count":23,
   "outputs":[
    {
     "data":{
      "image\/png":"[encoded data removed]"
     },
     "metadata":{
      "image\/png":{
       
      }
     },
     "output_type":"display_data"
    }
   ],
   "metadata":{
    "datalore":{
     "node_id":"lENgewWqYktV2OQFj6vkXK",
     "type":"CODE",
     "hide_input_from_viewers":true,
     "hide_output_from_viewers":true
    }
   }
  },
  {
   "cell_type":"markdown",
   "source":[
    "### Mol\/l data points"
   ],
   "attachments":{
    
   },
   "metadata":{
    "datalore":{
     "node_id":"nFHPuCrA0v7ULI2oXCWNuC",
     "type":"MD",
     "hide_input_from_viewers":true,
     "hide_output_from_viewers":true
    }
   }
  },
  {
   "cell_type":"code",
   "source":[
    "import pandas as pd\n",
    "import matplotlib.pyplot as plt\n",
    "\n",
    "# Assuming 'df' is your DataFrame and 'column_name' is the column you want to visualize\n",
    "column_name = 'c'  # Replace with your actual column name\n",
    "\n",
    "plt.figure(figsize=(10, 6))  # Adjust the figure size as needed\n",
    "\n",
    "# Create the histogram\n",
    "num_bins = 40\n",
    "n, bins, patches = plt.hist(dataset['c'][dataset['c units']=='mol\/l'], bins=num_bins, color='lightblue', edgecolor='black')\n",
    "\n",
    "# Define colors for bars (alternating between red and blue)\n",
    "colors = ['coral', 'lightblue'] * (num_bins \/\/ 2) + ['coral'] * (num_bins % 2)\n",
    "\n",
    "for patch, color in zip(patches, colors):\n",
    "    patch.set_facecolor(color)\n",
    "\n",
    "# plt.xticks(rotation=45)\n",
    "\n",
    "# Set x-axis labels to be displayed diagonally\n",
    "plt.xlabel('Concentration [mol\/L]', fontsize=14)  # Rotation and alignment settings\n",
    "plt.ylabel('Counts', fontsize=14)\n",
    "plt.title(f'Distribution of Concentration (c, mol\/L data points)', fontsize=16)\n",
    "\n",
    "plt.tight_layout()  # Ensures that the labels fit properly in the figure\n",
    "plt.savefig('concentration_histogram_molL.pdf', dpi=300, bbox_inches='tight')\n",
    "\n",
    "plt.show()"
   ],
   "execution_count":24,
   "outputs":[
    {
     "data":{
      "image\/png":"[encoded data removed]"
     },
     "metadata":{
      "image\/png":{
       
      }
     },
     "output_type":"display_data"
    }
   ],
   "metadata":{
    "datalore":{
     "node_id":"skldQ9XgFFng4PhoMyLQ0m",
     "type":"CODE",
     "hide_input_from_viewers":true,
     "hide_output_from_viewers":true
    }
   }
  },
  {
   "cell_type":"markdown",
   "source":[
    "## Salt Distribution"
   ],
   "attachments":{
    
   },
   "metadata":{
    "datalore":{
     "node_id":"W1VXptJmQELqJpCzLswg2I",
     "type":"MD",
     "hide_input_from_viewers":true,
     "hide_output_from_viewers":true
    }
   }
  },
  {
   "cell_type":"markdown",
   "source":[
    "## All Salts in one plot"
   ],
   "attachments":{
    
   },
   "metadata":{
    "datalore":{
     "node_id":"nNBeuZj33LBmZOzkpPvCcv",
     "type":"MD",
     "hide_input_from_viewers":true,
     "hide_output_from_viewers":true
    }
   }
  },
  {
   "cell_type":"code",
   "source":[
    "import pandas as pd\n",
    "import matplotlib.pyplot as plt\n",
    "\n",
    "# Assuming 'df' is your DataFrame and 'column_name' is the column you want to visualize\n",
    "column_name = 'salt'  # Replace with your actual column name\n",
    "threshold = 300\n",
    "\n",
    "# Calculate the value counts for the column\n",
    "value_counts = dataset[column_name].value_counts()\n",
    "\n",
    "# Filter the values that occur less than the threshold\n",
    "filtered_values = value_counts[value_counts > threshold]\n",
    "filtered_df = dataset['salt'][dataset['salt'].isin(list(filtered_values.index))]\n",
    "\n",
    "plt.figure(figsize=(14, 6))  # Adjust the figure size as needed\n",
    "\n",
    "# Create the histogram\n",
    "num_bins = 40\n",
    "n, bins, patches = plt.hist(filtered_df, bins=num_bins, color='lightblue', edgecolor='black')\n",
    "\n",
    "# Define colors for bars (alternating between red and blue)\n",
    "colors = ['coral', 'lightblue'] * (num_bins \/\/ 2) + ['coral'] * (num_bins % 2)\n",
    "\n",
    "for patch, color in zip(patches, colors):\n",
    "    patch.set_facecolor(color)\n",
    "\n",
    "# plt.xticks(rotation=45)\n",
    "\n",
    "# Set x-axis labels to be displayed diagonally\n",
    "plt.xlabel('Salt', fontsize=14)  # Rotation and alignment settings\n",
    "plt.ylabel('Counts', fontsize=14)\n",
    "plt.title(f'Distribution of Utilized Lithium Salt (Counts > 300)', fontsize=16)\n",
    "\n",
    "plt.tight_layout()  # Ensures that the labels fit properly in the figure\n",
    "plt.savefig('salt_histogram_countslargerthan300.pdf', dpi=300, bbox_inches='tight')\n",
    "\n",
    "plt.show()"
   ],
   "execution_count":311,
   "outputs":[
    {
     "data":{
      "image\/png":"[encoded data removed]"
     },
     "metadata":{
      "image\/png":{
       
      }
     },
     "output_type":"display_data"
    }
   ],
   "metadata":{
    "datalore":{
     "node_id":"XDo3X2yriioO34BbhZfh9s",
     "type":"CODE",
     "hide_input_from_viewers":true,
     "hide_output_from_viewers":true
    }
   }
  },
  {
   "cell_type":"markdown",
   "source":[
    "### Salt Counts below 300"
   ],
   "attachments":{
    
   },
   "metadata":{
    "datalore":{
     "node_id":"p1dL7X8xud73HxaEcM9Q4W",
     "type":"MD",
     "hide_input_from_viewers":true,
     "hide_output_from_viewers":true
    }
   }
  },
  {
   "cell_type":"code",
   "source":[
    "import pandas as pd\n",
    "import matplotlib.pyplot as plt\n",
    "\n",
    "# Assuming 'df' is your DataFrame and 'column_name' is the column you want to visualize\n",
    "column_name = 'salt'  # Replace with your actual column name\n",
    "threshold = 300\n",
    "\n",
    "# Calculate the value counts for the column\n",
    "value_counts = dataset[column_name].value_counts()\n",
    "\n",
    "# Filter the values that occur less than the threshold\n",
    "filtered_values = value_counts[value_counts < threshold]\n",
    "filtered_df = dataset['salt'][dataset['salt'].isin(list(filtered_values.index))]\n",
    "\n",
    "plt.figure(figsize=(14, 6))  # Adjust the figure size as needed\n",
    "\n",
    "# Create the histogram\n",
    "num_bins = 40\n",
    "n, bins, patches = plt.hist(filtered_df, bins=num_bins, color='lightblue', edgecolor='black')\n",
    "\n",
    "# Define colors for bars (alternating between red and blue)\n",
    "colors = ['coral', 'lightblue'] * (num_bins \/\/ 2) + ['coral'] * (num_bins % 2)\n",
    "\n",
    "for patch, color in zip(patches, colors):\n",
    "    patch.set_facecolor(color)\n",
    "\n",
    "# plt.xticks(rotation=45)\n",
    "\n",
    "# Set x-axis labels to be displayed diagonally\n",
    "plt.xlabel('Salt', fontsize=14)  # Rotation and alignment settings\n",
    "plt.ylabel('Counts', fontsize=14)\n",
    "plt.title(f'Distribution of Utilized Lithium Salt (Counts < 300)', fontsize=16)\n",
    "\n",
    "plt.tight_layout()  # Ensures that the labels fit properly in the figure\n",
    "plt.savefig('salt_histogram_countslessthan300.pdf', dpi=300, bbox_inches='tight')\n",
    "\n",
    "plt.show()"
   ],
   "execution_count":312,
   "outputs":[
    {
     "data":{
      "image\/png":"[encoded data removed]"
     },
     "metadata":{
      "image\/png":{
       
      }
     },
     "output_type":"display_data"
    }
   ],
   "metadata":{
    "datalore":{
     "node_id":"Yve2MQWjo6LHEIQ44R9LVz",
     "type":"CODE",
     "hide_input_from_viewers":true,
     "hide_output_from_viewers":true
    }
   }
  },
  {
   "cell_type":"markdown",
   "source":[
    "## Solvent ratio type distribution"
   ],
   "attachments":{
    
   },
   "metadata":{
    "datalore":{
     "node_id":"M8Rgk3AcqZUd6G3AJd1m27",
     "type":"MD",
     "hide_input_from_viewers":true,
     "hide_output_from_viewers":true
    }
   }
  },
  {
   "cell_type":"code",
   "source":[
    "import pandas as pd\n",
    "import matplotlib.pyplot as plt\n",
    "\n",
    "# Assuming 'df' is your DataFrame and 'column_name' is the column you want to visualize\n",
    "column_name = 'c'  # Replace with your actual column name\n",
    "\n",
    "plt.figure(figsize=(10, 6))  # Adjust the figure size as needed\n",
    "\n",
    "# Create the histogram\n",
    "num_bins = 40\n",
    "n, bins, patches = plt.hist(dataset['solvent ratio type'], bins=num_bins, color='lightblue', edgecolor='black')\n",
    "\n",
    "# Define colors for bars (alternating between red and blue)\n",
    "colors = ['coral', 'lightblue'] * (num_bins \/\/ 2) + ['coral'] * (num_bins % 2)\n",
    "\n",
    "for patch, color in zip(patches, colors):\n",
    "    patch.set_facecolor(color)\n",
    "\n",
    "# plt.xticks(rotation=45)\n",
    "\n",
    "# Set x-axis labels to be displayed diagonally\n",
    "plt.xlabel('Solvent Ratio Type', fontsize=14)  # Rotation and alignment settings\n",
    "plt.ylabel('Counts', fontsize=14)\n",
    "plt.title(f'Distribution of Solvent Ratio Type', fontsize=16)\n",
    "\n",
    "plt.tight_layout()  # Ensures that the labels fit properly in the figure\n",
    "plt.savefig('solventratiotype_histogram.pdf', dpi=300, bbox_inches='tight')\n",
    "\n",
    "plt.show()"
   ],
   "execution_count":27,
   "outputs":[
    {
     "data":{
      "image\/png":"[encoded data removed]"
     },
     "metadata":{
      "image\/png":{
       
      }
     },
     "output_type":"display_data"
    }
   ],
   "metadata":{
    "datalore":{
     "node_id":"MXohSzZBiDO1tqE2oYfN3l",
     "type":"CODE",
     "hide_input_from_viewers":true,
     "hide_output_from_viewers":true
    }
   }
  },
  {
   "cell_type":"code",
   "source":[
    
   ],
   "execution_count":null,
   "outputs":[
    
   ],
   "metadata":{
    "datalore":{
     "node_id":"dubqGCemqWNrBUExntSzSa",
     "type":"CODE",
     "hide_input_from_viewers":true,
     "hide_output_from_viewers":true
    }
   }
  },
  {
   "cell_type":"code",
   "source":[
    
   ],
   "execution_count":null,
   "outputs":[
    
   ],
   "metadata":{
    "datalore":{
     "node_id":"BreIkBU0Z3ya0zETzFG9fS",
     "type":"CODE",
     "hide_input_from_viewers":true,
     "hide_output_from_viewers":true
    }
   }
  },
  {
   "cell_type":"markdown",
   "source":[
    "## Correlation - Conductivity and Temperature"
   ],
   "attachments":{
    
   },
   "metadata":{
    "datalore":{
     "node_id":"LtGWpeeuWiY5NLn48rQAFh",
     "type":"MD",
     "hide_input_from_viewers":true,
     "hide_output_from_viewers":true
    }
   }
  },
  {
   "cell_type":"code",
   "source":[
    "import pandas as pd\n",
    "import seaborn as sns\n",
    "import matplotlib.pyplot as plt\n",
    "import numpy as np\n",
    "\n",
    "# Assuming 'df' is your DataFrame and 'column1' and 'column2' are the two columns you want to correlate\n",
    "plt.figure(figsize=(8, 6))  # Optional: Adjust the figure size\n",
    "\n",
    "logk_col = pd.DataFrame(np.log(dataset['k']))\n",
    "inv_t_col = pd.DataFrame(dataset['T'].apply(lambda x: 1\/x if x != 0 else np.nan))\n",
    "\n",
    "# Assuming 'doi' is the column you want to use as the hue\n",
    "doi_col = dataset['doi']\n",
    "\n",
    "df_con = pd.concat([logk_col, inv_t_col, doi_col], axis=1)\n",
    "df_con.columns = ['logk', 'inv_T', 'doi']\n",
    "\n",
    "sns.scatterplot(data=df_con, x='inv_T', y='logk', hue='doi')  # Add 'hue' parameter\n",
    "\n",
    "# Add labels and title\n",
    "plt.xlabel('Temperature')\n",
    "plt.ylabel('Conductivity')\n",
    "plt.title('Correlation - Temperature\/Conductivity')\n",
    "\n",
    "# Show the plot\n",
    "plt.legend(title='DOI')  # Optional: Add a legend with a title\n",
    "plt.show()"
   ],
   "execution_count":72,
   "outputs":[
    {
     "name":"stderr",
     "text":[
      "\/opt\/python\/envs\/default\/lib\/python3.8\/site-packages\/pandas\/core\/arraylike.py:402: RuntimeWarning: divide by zero encountered in log\n",
      "  result = getattr(ufunc, method)(*inputs, **kwargs)\n",
      "\/opt\/python\/envs\/default\/lib\/python3.8\/site-packages\/pandas\/core\/arraylike.py:402: RuntimeWarning: invalid value encountered in log\n",
      "  result = getattr(ufunc, method)(*inputs, **kwargs)\n"
     ],
     "output_type":"stream"
    },
    {
     "data":{
      "image\/png":"[encoded data removed]"
     },
     "metadata":{
      "image\/png":{
       
      }
     },
     "output_type":"display_data"
    }
   ],
   "metadata":{
    "datalore":{
     "node_id":"gx8JJ7gPwIiYZp8VqfJVBN",
     "type":"CODE",
     "hide_input_from_viewers":true,
     "hide_output_from_viewers":true
    }
   }
  },
  {
   "cell_type":"code",
   "source":[
    "dataset['k']"
   ],
   "execution_count":13,
   "outputs":[
    {
     "data":{
      "text\/html":[
       "<pre>0         0.160643\n",
       "1         0.150856\n",
       "2         0.141666\n",
       "3         0.132277\n",
       "4         0.119348\n",
       "           ...    \n",
       "13820     8.510000\n",
       "13821     2.530000\n",
       "13822     4.290000\n",
       "13823    10.790000\n",
       "13824     1.640000\n",
       "Name: k, Length: 13825, dtype: float64<\/pre>"
      ]
     },
     "metadata":{
      
     },
     "output_type":"display_data"
    }
   ],
   "metadata":{
    "datalore":{
     "node_id":"2hjTXnoBxLQNymKIBEWTtx",
     "type":"CODE",
     "hide_input_from_viewers":true,
     "hide_output_from_viewers":true
    }
   }
  },
  {
   "cell_type":"code",
   "source":[
    "column_name = 'salt'\n",
    "\n",
    "# Count the number of observations below 15\n",
    "below_15_count = len(dataset[dataset[column_name] == 'LiBOB'])\n",
    "\n",
    "# Calculate the total number of observations in the column\n",
    "total_count = len(dataset)\n",
    "\n",
    "# Calculate the percentage\n",
    "percentage_below_15 = (below_15_count \/ total_count) * 100\n",
    "print(percentage_below_15)"
   ],
   "execution_count":35,
   "outputs":[
    {
     "name":"stdout",
     "text":[
      "26.755877034358043\n"
     ],
     "output_type":"stream"
    }
   ],
   "metadata":{
    "datalore":{
     "node_id":"PuHVrBaFT5ZKJ00FyazhqT",
     "type":"CODE",
     "hide_input_from_viewers":true,
     "hide_output_from_viewers":true
    }
   }
  },
  {
   "cell_type":"code",
   "source":[
    "34.43+21.345+10.58+26.75"
   ],
   "execution_count":36,
   "outputs":[
    {
     "data":{
      "text\/plain":[
       "93.105"
      ]
     },
     "metadata":{
      
     },
     "output_type":"display_data"
    }
   ],
   "metadata":{
    "datalore":{
     "node_id":"FcQUwX2UJ04pb42yX2bPdM",
     "type":"CODE",
     "hide_input_from_viewers":true,
     "hide_output_from_viewers":true
    }
   }
  },
  {
   "cell_type":"code",
   "source":[
    
   ],
   "execution_count":null,
   "outputs":[
    
   ],
   "metadata":{
    "datalore":{
     "node_id":"URwAdlnm7tSIoZbrFOSXJl",
     "type":"CODE",
     "hide_input_from_viewers":true,
     "hide_output_from_viewers":true
    }
   }
  }
 ],
 "metadata":{
  "kernelspec":{
   "display_name":"Python",
   "language":"python",
   "name":"python"
  },
  "datalore":{
   "computation_mode":"JUPYTER",
   "package_manager":"pip",
   "base_environment":"default",
   "packages":[
    
   ],
   "report_row_ids":[
    
   ],
   "version":3
  }
 },
 "nbformat":4,
 "nbformat_minor":4
}